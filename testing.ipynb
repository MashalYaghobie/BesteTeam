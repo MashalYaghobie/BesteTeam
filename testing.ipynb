{
 "cells": [
  {
   "cell_type": "code",
   "execution_count": null,
   "id": "6d12c290-78e5-4518-a164-f56523639131",
   "metadata": {},
   "outputs": [],
   "source": [
    "# Testing Git\n",
    "# Trying to visualize rush hour board \n",
    "# First piece of code "
   ]
  },
  {
   "cell_type": "code",
   "execution_count": 12,
   "id": "edce46a7-662b-442c-8fb4-6a3e3462e6de",
   "metadata": {},
   "outputs": [
    {
     "name": "stdout",
     "output_type": "stream",
     "text": [
      "['p']\n",
      "['p']\n",
      "['p']\n",
      "['p']\n",
      "['p']\n",
      "['p']\n"
     ]
    }
   ],
   "source": [
    "for x in range(6):\n",
    "    print([\"p\"])\n",
    "    \n"
   ]
  },
  {
   "cell_type": "code",
   "execution_count": null,
   "id": "5bed799c-fddf-4a3d-a71d-5b417ae7ab4f",
   "metadata": {},
   "outputs": [],
   "source": [
    "vehicle = self.vehicles[vehicle_id]\n",
    "\n",
    "# TESTING\n",
    "# Loops through every vehicle\n",
    "if vehicle.orientation == 'H':\n",
    "    new_col = vehicle.col + distance\n",
    "\n",
    "    for k, v in self.vehicles.items():\n",
    "\n",
    "        # Checks whether the current vehicle is on the same row as another vehicle\n",
    "        if vehicle.row == v.row and vehicle.color != v.color:\n",
    "            #print(v.color, v.row, v.col)\n",
    "\n",
    "            print(new_col+(vehicle.length -1))\n",
    "            print(v.col)\n",
    "\n",
    "            if new_col + (vehicle.length - 1)  == v.col:\n",
    "\n",
    "                print('oh no')\n",
    "\n",
    "\n",
    "print(f\"row, col, length: {vehicle.color, vehicle.row, vehicle.col, vehicle.length}\")\n",
    "#############"
   ]
  },
  {
   "cell_type": "code",
   "execution_count": null,
   "id": "623e3b1e-362b-4644-ab2a-254c54dbfe26",
   "metadata": {},
   "outputs": [],
   "source": [
    "    def move_vehicle(self, vehicle_id, distance):\n",
    "        vehicle = self.vehicles[vehicle_id]\n",
    "        \n",
    "        # TESTING\n",
    "        #print(f\"row, col, length: {vehicle.color, vehicle.row, vehicle.col, vehicle.length}\")\n",
    "        \n",
    "\n",
    "        if vehicle.orientation == 'H':\n",
    "            # calculate new column position\n",
    "            new_col = vehicle.col + distance\n",
    "            \n",
    "            # check if the move is valid\n",
    "            if 0 <= new_col <= 5 - vehicle.length:\n",
    "                \n",
    "                # Code added from here:\n",
    "                # Loops through every vehicle\n",
    "                for k, v in self.vehicles.items():\n",
    "                    \n",
    "                    # Checks whether the current vehicle is on the same row as another vehicle and skips vehicle itself \n",
    "                    # This could be a potential bug once there are vehicles of the same color on the same row\n",
    "                    if vehicle.row == v.row and vehicle.color != v.color:\n",
    "\n",
    "                        # Checks whether the new col value is smaller than the neighbour vehicle col value\n",
    "                        if new_col + (vehicle.length - 1)  < v.col:\n",
    "   \n",
    "                            # clear vehicle's current position\n",
    "                            for i in range(vehicle.length):\n",
    "                                self.board[vehicle.row][vehicle.col + i] = '.'\n",
    "                            # update vehicle position\n",
    "                            vehicle.col = new_col\n",
    "                            # place vehicle at new position\n",
    "                            for i in range(vehicle.length):\n",
    "                                self.board[vehicle.row][vehicle.col + i] = vehicle.color[0].upper()\n",
    "                            \n",
    "                        else:\n",
    "                            print(\"Invalid move\")\n",
    "                            \n",
    "                            # Breaks when there is a vehicle next to the current vehicle\n",
    "                            break\n",
    "                            # Code added until here\n",
    "            else:\n",
    "                print(\"Invalid move.\")\n",
    "\n",
    "        else:\n",
    "            # similar logic for vertical movement\n",
    "            new_row = vehicle.row + distance\n",
    "            if 0 <= new_row <= 5 - vehicle.length:\n",
    "                for k, v in self.vehicles.items():\n",
    "                    if vehicle.col == v.col and vehicle.color != v.color:\n",
    "                        if new_row + (vehicle.length - 1)  < v.row:\n",
    "                        \n",
    "                            for i in range(vehicle.length):\n",
    "                                self.board[vehicle.row + i][vehicle.col] = '.'\n",
    "\n",
    "                            vehicle.row = new_row\n",
    "                            for i in range(vehicle.length):\n",
    "                                self.board[vehicle.row + i][vehicle.col] = vehicle.color[0].upper()\n",
    "                                \n",
    "                        else:\n",
    "                            print(\"Invalid move\")\n",
    "                            break\n",
    "            else:\n",
    "                print(\"Invalid move.\")\n",
    "        \n",
    "        \n",
    "        # TESTING\n",
    "        #print(f\"row, col, length: {vehicle.color, vehicle.row, vehicle.col, vehicle.length}\")\n",
    "        "
   ]
  },
  {
   "cell_type": "code",
   "execution_count": null,
   "id": "2396869e-547e-4fb0-9889-0be97137e583",
   "metadata": {},
   "outputs": [],
   "source": []
  }
 ],
 "metadata": {
  "kernelspec": {
   "display_name": "Python 3 (ipykernel)",
   "language": "python",
   "name": "python3"
  },
  "language_info": {
   "codemirror_mode": {
    "name": "ipython",
    "version": 3
   },
   "file_extension": ".py",
   "mimetype": "text/x-python",
   "name": "python",
   "nbconvert_exporter": "python",
   "pygments_lexer": "ipython3",
   "version": "3.9.0"
  }
 },
 "nbformat": 4,
 "nbformat_minor": 5
}
