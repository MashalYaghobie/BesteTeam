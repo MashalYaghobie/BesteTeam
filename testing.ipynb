{
 "cells": [
  {
   "cell_type": "code",
   "execution_count": null,
   "id": "6d12c290-78e5-4518-a164-f56523639131",
   "metadata": {},
   "outputs": [],
   "source": [
    "# Testing Git\n",
    "# Trying to visualize rush hour board \n",
    "# First piece of code "
   ]
  },
  {
   "cell_type": "code",
   "execution_count": 12,
   "id": "edce46a7-662b-442c-8fb4-6a3e3462e6de",
   "metadata": {},
   "outputs": [
    {
     "name": "stdout",
     "output_type": "stream",
     "text": [
      "['p']\n",
      "['p']\n",
      "['p']\n",
      "['p']\n",
      "['p']\n",
      "['p']\n"
     ]
    }
   ],
   "source": [
    "for x in range(6):\n",
    "    print([\"p\"])\n",
    "    \n"
   ]
  },
  {
   "cell_type": "code",
   "execution_count": null,
   "id": "5bed799c-fddf-4a3d-a71d-5b417ae7ab4f",
   "metadata": {},
   "outputs": [],
   "source": [
    "vehicle = self.vehicles[vehicle_id]\n",
    "\n",
    "# TESTING\n",
    "# Loops through every vehicle\n",
    "if vehicle.orientation == 'H':\n",
    "    new_col = vehicle.col + distance\n",
    "\n",
    "    for k, v in self.vehicles.items():\n",
    "\n",
    "        # Checks whether the current vehicle is on the same row as another vehicle\n",
    "        if vehicle.row == v.row and vehicle.color != v.color:\n",
    "            #print(v.color, v.row, v.col)\n",
    "\n",
    "            print(new_col+(vehicle.length -1))\n",
    "            print(v.col)\n",
    "\n",
    "            if new_col + (vehicle.length - 1)  == v.col:\n",
    "\n",
    "                print('oh no')\n",
    "\n",
    "\n",
    "print(f\"row, col, length: {vehicle.color, vehicle.row, vehicle.col, vehicle.length}\")\n",
    "#############"
   ]
  },
  {
   "cell_type": "code",
   "execution_count": null,
   "id": "623e3b1e-362b-4644-ab2a-254c54dbfe26",
   "metadata": {},
   "outputs": [],
   "source": [
    "    def move_vehicle(self, vehicle_id, distance):\n",
    "        vehicle = self.vehicles[vehicle_id]\n",
    "        \n",
    "        # TESTING\n",
    "        #print(f\"row, col, length: {vehicle.color, vehicle.row, vehicle.col, vehicle.length}\")\n",
    "        \n",
    "\n",
    "        if vehicle.orientation == 'H':\n",
    "            # calculate new column position\n",
    "            new_col = vehicle.col + distance\n",
    "            \n",
    "            # check if the move is valid\n",
    "            if 0 <= new_col <= 5 - vehicle.length:\n",
    "                \n",
    "                # Code added from here:\n",
    "                # Loops through every vehicle\n",
    "                for k, v in self.vehicles.items():\n",
    "                    \n",
    "                    # Checks whether the current vehicle is on the same row as another vehicle and skips vehicle itself \n",
    "                    # This could be a potential bug once there are vehicles of the same color on the same row\n",
    "                    if vehicle.row == v.row and vehicle.color != v.color:\n",
    "\n",
    "                        # Checks whether the new col value is smaller than the neighbour vehicle col value\n",
    "                        if new_col + (vehicle.length - 1)  < v.col:\n",
    "   \n",
    "                            # clear vehicle's current position\n",
    "                            for i in range(vehicle.length):\n",
    "                                self.board[vehicle.row][vehicle.col + i] = '.'\n",
    "                            # update vehicle position\n",
    "                            vehicle.col = new_col\n",
    "                            # place vehicle at new position\n",
    "                            for i in range(vehicle.length):\n",
    "                                self.board[vehicle.row][vehicle.col + i] = vehicle.color[0].upper()\n",
    "                            \n",
    "                        else:\n",
    "                            print(\"Invalid move\")\n",
    "                            \n",
    "                            # Breaks when there is a vehicle next to the current vehicle\n",
    "                            break\n",
    "                            # Code added until here\n",
    "            else:\n",
    "                print(\"Invalid move.\")\n",
    "\n",
    "        else:\n",
    "            # similar logic for vertical movement\n",
    "            new_row = vehicle.row + distance\n",
    "            if 0 <= new_row <= 5 - vehicle.length:\n",
    "                for k, v in self.vehicles.items():\n",
    "                    if vehicle.col == v.col and vehicle.color != v.color:\n",
    "                        if new_row + (vehicle.length - 1)  < v.row:\n",
    "                        \n",
    "                            for i in range(vehicle.length):\n",
    "                                self.board[vehicle.row + i][vehicle.col] = '.'\n",
    "\n",
    "                            vehicle.row = new_row\n",
    "                            for i in range(vehicle.length):\n",
    "                                self.board[vehicle.row + i][vehicle.col] = vehicle.color[0].upper()\n",
    "                                \n",
    "                        else:\n",
    "                            print(\"Invalid move\")\n",
    "                            break\n",
    "            else:\n",
    "                print(\"Invalid move.\")\n",
    "        \n",
    "        \n",
    "        # TESTING\n",
    "        #print(f\"row, col, length: {vehicle.color, vehicle.row, vehicle.col, vehicle.length}\")\n",
    "        "
   ]
  },
  {
   "cell_type": "code",
   "execution_count": null,
   "id": "2396869e-547e-4fb0-9889-0be97137e583",
   "metadata": {},
   "outputs": [],
   "source": []
  },
  {
   "cell_type": "code",
   "execution_count": 143,
   "id": "4c7272b3-a317-47dd-82ae-fb3a92ac6b0b",
   "metadata": {},
   "outputs": [
    {
     "data": {
      "text/plain": [
       "[['.', '.', '.', '.', '.', '.'],\n",
       " ['.', '.', '.', '.', '.', '.'],\n",
       " ['.', '.', '.', '.', '.', '.'],\n",
       " ['.', '.', '.', '.', '.', '.'],\n",
       " ['.', '.', '.', '.', '.', '.'],\n",
       " ['.', '.', '.', '.', '.', '.']]"
      ]
     },
     "execution_count": 143,
     "metadata": {},
     "output_type": "execute_result"
    }
   ],
   "source": [
    "board = [['.' for _ in range(6)] for _ in range(6)]\n",
    "board"
   ]
  },
  {
   "cell_type": "code",
   "execution_count": 146,
   "id": "1fd1016e-04ea-45b5-b974-b353c0986f05",
   "metadata": {},
   "outputs": [
    {
     "name": "stdout",
     "output_type": "stream",
     "text": [
      "⬜ ⬜ ⬜ ⬜ ⬜ ⬜\n",
      "⬜ ⬜ ⬜ ⬜ ⬜ ⬜\n",
      "⬜ ⬜ ⬜ ⬜ ⬜ ⬜\n",
      "⬜ ⬜ ⬜ ⬜ ⬜ ⬜\n",
      "⬜ ⬜ ⬜ ⬜ ⬜ ⬜\n",
      "⬜ ⬜ ⬜ ⬜ ⬜ ⬜\n",
      "\n"
     ]
    }
   ],
   "source": [
    "unicode_map = {\n",
    "'RC': '🚗',  # Red car\n",
    "'BC': '🚙',  # Blue car\n",
    "'YC': '🚕',  # Yellow car\n",
    "'OB': '🚌',  # Orange bus\n",
    "'YT': '🚜',  # Yellow tractor\n",
    "'OT': '🚚',  # Orange truck\n",
    "'BB': '🚎',  # Blue bus\n",
    "'YS': '🛵',  # Yellow scooter\n",
    "'WB': '🚐',  # White bus\n",
    "'GT': '🚛',  # Green truck\n",
    "'BM': '🏍️',  # Black motor\n",
    "'WT': '🚑',  # White truck\n",
    "'GC': '🛻',  # Green car\n",
    "'GT': '🚃',  # Green train\n",
    "\n",
    "# more to be added later\n",
    "'.': '⬜'   # Empty space\n",
    "}\n",
    "\n",
    "for row in board:\n",
    "    print(' '.join(unicode_map.get(cell, cell) for cell in row))\n",
    "print()"
   ]
  },
  {
   "cell_type": "code",
   "execution_count": 190,
   "id": "d865249e-2418-4e80-b195-7dab418eb817",
   "metadata": {},
   "outputs": [
    {
     "data": {
      "text/html": [
       "<div>\n",
       "<style scoped>\n",
       "    .dataframe tbody tr th:only-of-type {\n",
       "        vertical-align: middle;\n",
       "    }\n",
       "\n",
       "    .dataframe tbody tr th {\n",
       "        vertical-align: top;\n",
       "    }\n",
       "\n",
       "    .dataframe thead th {\n",
       "        text-align: right;\n",
       "    }\n",
       "</style>\n",
       "<table border=\"1\" class=\"dataframe\">\n",
       "  <thead>\n",
       "    <tr style=\"text-align: right;\">\n",
       "      <th></th>\n",
       "      <th>car</th>\n",
       "      <th>orientation</th>\n",
       "      <th>col</th>\n",
       "      <th>row</th>\n",
       "      <th>length</th>\n",
       "    </tr>\n",
       "  </thead>\n",
       "  <tbody>\n",
       "    <tr>\n",
       "      <th>0</th>\n",
       "      <td>A</td>\n",
       "      <td>H</td>\n",
       "      <td>2</td>\n",
       "      <td>1</td>\n",
       "      <td>2</td>\n",
       "    </tr>\n",
       "    <tr>\n",
       "      <th>1</th>\n",
       "      <td>B</td>\n",
       "      <td>H</td>\n",
       "      <td>4</td>\n",
       "      <td>1</td>\n",
       "      <td>3</td>\n",
       "    </tr>\n",
       "    <tr>\n",
       "      <th>2</th>\n",
       "      <td>C</td>\n",
       "      <td>H</td>\n",
       "      <td>2</td>\n",
       "      <td>2</td>\n",
       "      <td>2</td>\n",
       "    </tr>\n",
       "    <tr>\n",
       "      <th>3</th>\n",
       "      <td>D</td>\n",
       "      <td>H</td>\n",
       "      <td>5</td>\n",
       "      <td>2</td>\n",
       "      <td>2</td>\n",
       "    </tr>\n",
       "    <tr>\n",
       "      <th>4</th>\n",
       "      <td>E</td>\n",
       "      <td>V</td>\n",
       "      <td>4</td>\n",
       "      <td>2</td>\n",
       "      <td>2</td>\n",
       "    </tr>\n",
       "    <tr>\n",
       "      <th>5</th>\n",
       "      <td>F</td>\n",
       "      <td>H</td>\n",
       "      <td>1</td>\n",
       "      <td>4</td>\n",
       "      <td>2</td>\n",
       "    </tr>\n",
       "    <tr>\n",
       "      <th>6</th>\n",
       "      <td>G</td>\n",
       "      <td>V</td>\n",
       "      <td>3</td>\n",
       "      <td>3</td>\n",
       "      <td>2</td>\n",
       "    </tr>\n",
       "    <tr>\n",
       "      <th>7</th>\n",
       "      <td>H</td>\n",
       "      <td>H</td>\n",
       "      <td>4</td>\n",
       "      <td>4</td>\n",
       "      <td>2</td>\n",
       "    </tr>\n",
       "    <tr>\n",
       "      <th>8</th>\n",
       "      <td>I</td>\n",
       "      <td>V</td>\n",
       "      <td>6</td>\n",
       "      <td>3</td>\n",
       "      <td>2</td>\n",
       "    </tr>\n",
       "    <tr>\n",
       "      <th>9</th>\n",
       "      <td>J</td>\n",
       "      <td>H</td>\n",
       "      <td>5</td>\n",
       "      <td>5</td>\n",
       "      <td>2</td>\n",
       "    </tr>\n",
       "    <tr>\n",
       "      <th>10</th>\n",
       "      <td>K</td>\n",
       "      <td>V</td>\n",
       "      <td>1</td>\n",
       "      <td>5</td>\n",
       "      <td>2</td>\n",
       "    </tr>\n",
       "    <tr>\n",
       "      <th>11</th>\n",
       "      <td>L</td>\n",
       "      <td>V</td>\n",
       "      <td>3</td>\n",
       "      <td>5</td>\n",
       "      <td>2</td>\n",
       "    </tr>\n",
       "    <tr>\n",
       "      <th>12</th>\n",
       "      <td>X</td>\n",
       "      <td>H</td>\n",
       "      <td>1</td>\n",
       "      <td>3</td>\n",
       "      <td>2</td>\n",
       "    </tr>\n",
       "  </tbody>\n",
       "</table>\n",
       "</div>"
      ],
      "text/plain": [
       "   car orientation  col  row  length\n",
       "0    A           H    2    1       2\n",
       "1    B           H    4    1       3\n",
       "2    C           H    2    2       2\n",
       "3    D           H    5    2       2\n",
       "4    E           V    4    2       2\n",
       "5    F           H    1    4       2\n",
       "6    G           V    3    3       2\n",
       "7    H           H    4    4       2\n",
       "8    I           V    6    3       2\n",
       "9    J           H    5    5       2\n",
       "10   K           V    1    5       2\n",
       "11   L           V    3    5       2\n",
       "12   X           H    1    3       2"
      ]
     },
     "execution_count": 190,
     "metadata": {},
     "output_type": "execute_result"
    }
   ],
   "source": [
    "vehicles = {}\n",
    "file = pd.read_csv('gameboards/Rushhour6x6_1.csv')\n",
    "file"
   ]
  },
  {
   "cell_type": "code",
   "execution_count": 192,
   "id": "3af80569-2607-4a84-8287-a4970c595b3c",
   "metadata": {},
   "outputs": [
    {
     "data": {
      "text/plain": [
       "array([['A', 'H', 2, 1, 2],\n",
       "       ['B', 'H', 4, 1, 3],\n",
       "       ['C', 'H', 2, 2, 2],\n",
       "       ['D', 'H', 5, 2, 2],\n",
       "       ['E', 'V', 4, 2, 2],\n",
       "       ['F', 'H', 1, 4, 2],\n",
       "       ['G', 'V', 3, 3, 2],\n",
       "       ['H', 'H', 4, 4, 2],\n",
       "       ['I', 'V', 6, 3, 2],\n",
       "       ['J', 'H', 5, 5, 2],\n",
       "       ['K', 'V', 1, 5, 2],\n",
       "       ['L', 'V', 3, 5, 2],\n",
       "       ['X', 'H', 1, 3, 2]], dtype=object)"
      ]
     },
     "execution_count": 192,
     "metadata": {},
     "output_type": "execute_result"
    }
   ],
   "source": [
    "file.values"
   ]
  },
  {
   "cell_type": "code",
   "execution_count": 247,
   "id": "915c5024-4279-4221-ba33-0eb0a2a41057",
   "metadata": {},
   "outputs": [
    {
     "name": "stdout",
     "output_type": "stream",
     "text": [
      "2\n",
      "3\n",
      "2\n",
      "2\n",
      "2\n",
      "2\n",
      "2\n",
      "2\n",
      "2\n",
      "2\n",
      "2\n",
      "2\n",
      "2\n"
     ]
    },
    {
     "data": {
      "text/plain": [
       "{'A': ('H', 2, 1, 2),\n",
       " 'B': ('H', 4, 1, 3),\n",
       " 'C': ('H', 2, 2, 2),\n",
       " 'D': ('H', 5, 2, 2),\n",
       " 'E': ('V', 4, 2, 2),\n",
       " 'F': ('H', 1, 4, 2),\n",
       " 'G': ('V', 3, 3, 2),\n",
       " 'H': ('H', 4, 4, 2),\n",
       " 'I': ('V', 6, 3, 2),\n",
       " 'J': ('H', 5, 5, 2),\n",
       " 'K': ('V', 1, 5, 2),\n",
       " 'L': ('V', 3, 5, 2),\n",
       " 'X': ('H', 1, 3, 2)}"
      ]
     },
     "execution_count": 247,
     "metadata": {},
     "output_type": "execute_result"
    }
   ],
   "source": [
    "for v in file.values:\n",
    "    print(v[4])\n",
    "\n",
    "vehicles"
   ]
  },
  {
   "cell_type": "code",
   "execution_count": 223,
   "id": "e79cea62-f6a0-4749-82b7-3e5b42f6fbca",
   "metadata": {},
   "outputs": [
    {
     "name": "stdout",
     "output_type": "stream",
     "text": [
      "1\n",
      "1\n",
      "2\n",
      "2\n",
      "2\n",
      "4\n",
      "3\n",
      "4\n",
      "3\n",
      "5\n",
      "5\n",
      "5\n",
      "3\n"
     ]
    },
    {
     "name": "stderr",
     "output_type": "stream",
     "text": [
      "/var/folders/68/jst3t7vj7f54t3_pm8x5p7q40000gq/T/ipykernel_33776/1985788279.py:2: FutureWarning: Series.__getitem__ treating keys as positions is deprecated. In a future version, integer keys will always be treated as labels (consistent with DataFrame behavior). To access a value by position, use `ser.iloc[pos]`\n",
      "  print(row[3])\n"
     ]
    }
   ],
   "source": [
    "for _, row in file.iterrows():\n",
    "    print(row[3])"
   ]
  },
  {
   "cell_type": "code",
   "execution_count": null,
   "id": "ae9e354f-c1e7-4e65-8b5a-1c25c1866d6f",
   "metadata": {},
   "outputs": [],
   "source": [
    "def display_board(self):\n",
    "    \n",
    "    for row in self.board:\n",
    "        print(' '.join(row))\n",
    "    print()"
   ]
  },
  {
   "cell_type": "code",
   "execution_count": null,
   "id": "a51272b4-b639-4be8-926a-53e4ea10efc7",
   "metadata": {},
   "outputs": [],
   "source": [
    "def read_vehicles(self):\n",
    "    rush_hour_file = pd.read_csv('gameboards/Rushhour6x6_1.csv')\n",
    "    \n",
    "    for car in rush_hour_file:\n",
    "        vehicles[car[0]] = car[1], car[2], car[3], car[4]"
   ]
  },
  {
   "cell_type": "code",
   "execution_count": null,
   "id": "96d28955-f972-4d85-914d-b9eb56537884",
   "metadata": {},
   "outputs": [],
   "source": [
    "class Vehicle:\n",
    "    def __init__(self, car, orientation, col, row, length):\n",
    "        self.car = car # we'll use name to represent vehicles\n",
    "        self.orientation = orientation # 'H' for horizontal and 'V' for vertical\n",
    "        self.col = col\n",
    "        self.row = row\n",
    "        self.length = length"
   ]
  },
  {
   "cell_type": "code",
   "execution_count": null,
   "id": "8eae79b1-0a22-4d8a-a475-06490b2b2938",
   "metadata": {},
   "outputs": [],
   "source": []
  },
  {
   "cell_type": "code",
   "execution_count": null,
   "id": "1e558bcd-31dd-4e3a-969a-4f639e2bea01",
   "metadata": {},
   "outputs": [],
   "source": []
  }
 ],
 "metadata": {
  "kernelspec": {
   "display_name": "Python 3 (ipykernel)",
   "language": "python",
   "name": "python3"
  },
  "language_info": {
   "codemirror_mode": {
    "name": "ipython",
    "version": 3
   },
   "file_extension": ".py",
   "mimetype": "text/x-python",
   "name": "python",
   "nbconvert_exporter": "python",
   "pygments_lexer": "ipython3",
   "version": "3.9.18"
  }
 },
 "nbformat": 4,
 "nbformat_minor": 5
}
